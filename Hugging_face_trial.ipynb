{
 "cells": [
  {
   "cell_type": "code",
   "execution_count": 2,
   "id": "a6b2982e",
   "metadata": {},
   "outputs": [],
   "source": [
    "import json"
   ]
  },
  {
   "cell_type": "code",
   "execution_count": 3,
   "id": "bc5a15ad",
   "metadata": {},
   "outputs": [],
   "source": [
    "with open('/home/bibin/MAI/2nd_sem/Project_module/segmented_data (9).json') as f:\n",
    "  data = json.load(f)"
   ]
  },
  {
   "cell_type": "code",
   "execution_count": 4,
   "id": "c8cfc8ac",
   "metadata": {},
   "outputs": [
    {
     "data": {
      "text/plain": [
       "{'chapters': [],\n",
       " 'languages': ['en'],\n",
       " 'en': [{'name': 'Chapter 1 Introduction',\n",
       "   'content': 'Parts of the coffee machine\\n\\nUser Manual Signs and Symbols\\n\\nGlossary',\n",
       "   'sections': []},\n",
       "  {'name': 'Chapter 2 Operation',\n",
       "   'content': 'Switch on coffee machine\\n\\n\\nBeverage dispensing\\n\\n\\nDecaf button optional\\n\\n\\nMilk or milk foam optional\\n\\n\\nDispense milk or milk foam\\n\\n\\nConnect up the milk\\n\\nStandard\\n\\nWith WMF Cooler WMF Cup Cool optional\\n\\n\\nDispensing hot water\\n\\n\\nSteam dispensing optional\\n\\nWarm beverages\\n\\nFoam milk\\n\\n\\nHeight adjustment of the combi spout\\n\\n\\nBean hopper product hopper\\n\\n\\nTwin Topping hopper Twin Choc hopper optional\\n\\n\\nManual insert optional tablet insert\\n\\n\\nGrounds container\\n\\n\\nGrounds disposal through the counter optional\\n\\n\\nDrip tray\\n\\n\\nIntegrated milk cooler optional\\n\\n\\nSwitch off the coffee machine',\n",
       "   'sections': []},\n",
       "  {'name': 'Chapter 3 Software',\n",
       "   'content': 'An overview\\n\\n\\nReady to operate\\n\\n\\nWarm rinse pad\\n\\n\\nBarista pad\\n\\n\\nInformation\\n\\nService\\n\\nCare\\n\\nBrew time\\n\\nJournal\\n\\nTimer\\n\\n\\nShift pad optional\\n\\n\\nMain menu\\n\\n\\nMain menu\\n\\n\\nMilk and foam\\n\\nMilk foam quality\\n\\nLatte macchiato pause interval\\n\\n\\nTimer program\\n\\nTimer state\\n\\nSet timer\\n\\nCopy day\\n\\nTimer overview\\n\\nDelete timer\\n\\nTimer information\\n\\n\\nUser Manual WMF presto\\nTable of Contents\\n\\nCare\\n\\nCleaning program\\n\\nFoamer cleaning\\n\\nMixer rinsing\\n\\nDescaling\\n\\nDescaling coffee machine with water tank or Aquaflex\\nDescaling coffee machine with constant water supply\\nFilter change\\n\\nRinse filter\\n\\nCustomer Check up\\n\\n\\nSettings\\n\\nRecipes and buttons\\n\\nSelecting the beverage buttons when setting\\nAdjust values\\nStart a preparation test with the current values\\nSave setting\\nCup volumes\\nChange recipes\\nSet decaf optional\\nButton allocation\\nSelect grinder for a coffee beverage\\nSelect the portion controller for the Choc beverage\\nWeigh grounds\\nBoiler temperature\\n\\nReset\\n\\nTime and date\\n\\nDisplay language\\n\\nDisplay contrast\\n\\nWater filter is fitted\\n\\nWater hardness and capacity\\n\\nWarm up rinsing\\n\\nFoamer rinsing optional\\n\\nRinsing interval\\n\\nOperating options\\n\\nIllumination optional\\n\\nMilk optional\\n\\nIntro\\n\\nECO Mode\\n\\n\\nPIN entry display\\n\\n\\nPIN rights access control\\n\\nCleaning level\\n\\nSetting level\\n\\nAccounting level\\n\\nDelete PIN\\n\\nAccounting numbers of beverages',\n",
       "   'sections': []},\n",
       "  {'name': 'Chapter 4 Other settings',\n",
       "   'content': 'Mechanical settings\\n\\n\\nSet grinding degree\\n\\n\\nAquaflex optional Switching between the constant water supply\\nand the water tank\\n\\n\\nLabelling of beverage buttons\\n\\n\\nUser Manual WMF presto\\nTable of Contents',\n",
       "   'sections': []},\n",
       "  {'name': 'Chapter 5 Care',\n",
       "   'content': 'Cleaning intervals overview\\n\\nFor all cleaning instructions\\n\\n\\nDaily cleaning\\n\\n\\nCleaning program\\n\\n\\nMilk system cleaning\\n\\nMilk system cleaning Standard\\n\\nMilk system cleaning Plug Clean\\n\\n\\nMixer rinsing\\n\\n\\nCombi spout cleaning\\n\\n\\nMilk container cleaning optional\\n\\n\\nGeneral cleaning\\n\\n\\nWeekly cleaning\\n\\n\\nChoc Topping mixer cleaning optional\\n\\n\\nMilk compartment cleaning\\n\\n\\nWater tank cleaning\\n\\n\\nRegular cleaning\\n\\n\\nBrewing unit cleaning\\n\\n\\nBean hopper cleaning\\n\\n\\nProduct hopper cleaning optional\\n\\n\\nSteam outlet cleaning\\n\\n\\nFilter change\\n\\n\\nDescaling',\n",
       "   'sections': []},\n",
       "  {'name': 'Chapter 7 Maintenance',\n",
       "   'content': 'Coffee machine maintenance\\n\\n\\nWMF Service',\n",
       "   'sections': []},\n",
       "  {'name': 'Chapter 8 Messages and instructions',\n",
       "   'content': 'Messages for operation\\n\\n\\nError messages and malfunctions\\n\\n\\nErrors without error message',\n",
       "   'sections': []},\n",
       "  {'name': 'Chapter 9 Safety',\n",
       "   'content': 'Hazards to the operator\\n\\n\\nHazards to the coffee machine\\n\\n\\nIntended use\\n\\n\\nDirectives\\n\\n\\nDuties of the owner operator\\n\\n\\nWarranty claims\\n\\nNo warranty is provided\\n\\nAppendix Cleaning instructions Standard\\n\\nAppendix Technical data\\n\\nTechnical data for coffee machine\\n\\nConditions for usage and installation\\n\\nAppendix Accessories and spare parts',\n",
       "   'sections': []},\n",
       "  {'name': 'Chapter 2 Operation',\n",
       "   'content': 'A display guided installation program helps perform initial\\nstart up after delivery from the factory',\n",
       "   'sections': []},\n",
       "  {'name': 'Chapter 5 Care',\n",
       "   'content': 'Regular cleaning is essential in order to ensure\\nproblem free operation of the coffee machine and to\\nensure optimum coffee quality\\nPrior to and after every instance that the machine is shut\\noff for several days perform all cleanings',\n",
       "   'sections': []},\n",
       "  {'name': 'Chapter 6 HACCP cleaning schedule',\n",
       "   'content': 'You are required by law to ensure that your customers are\\nnot subject to any health hazards as a consequence of the\\nconsumption of the food items you serve\\nA HACCP cleaning schedule Hazard Analysis Critical\\nControl Points for risk identification and assessment is\\nrequired You should carry out a risk analysis on your\\npremises The aim of the analysis is to recognize and\\npre empt food hygiene hazard points For this purpose\\nmonitoring and where necessary test procedures must be\\nestablished and implemented\\nWith correct installation care maintenance and cleaning\\nWMF coffee machines meet the requirements described\\nabove If care and cleaning of the coffee machine is\\nnot carried out properly dispensing milk beverages will\\nconstitute a food hygiene hazard point\\nPlease observe the following points in order to comply\\nwith the HACCP cleaning schedule',\n",
       "   'sections': []},\n",
       "  {'name': 'Chapter 7 Maintenance',\n",
       "   'content': 'Please observe that this is a professional industrial coffee\\nmachine which needs regular maintenance and descaling\\nTiming of descaling is calculated by the coffee machine\\nand depends on the degree of hardness of the local mains\\nwater and whether or not a water filter is fitted\\nThe maintenance date is based on the degree of use of the\\ncoffee machine and is shown on the display The coffee\\nmachine may continue to be operated after the message\\nbut Customer Care or contract maintenance should be\\ncarried out promptly to ensure correct functioning and so\\nas to avoid any consequent damage',\n",
       "   'sections': []}]}"
      ]
     },
     "execution_count": 4,
     "metadata": {},
     "output_type": "execute_result"
    }
   ],
   "source": [
    "data"
   ]
  },
  {
   "cell_type": "code",
   "execution_count": 5,
   "id": "14cd72fd",
   "metadata": {},
   "outputs": [],
   "source": [
    "# Convert data to string format\n",
    "data_str = json.dumps(data)\n",
    "\n",
    "# Write data to text file\n",
    "with open('data.txt', 'w') as f:\n",
    "    f.write(data_str)\n"
   ]
  },
  {
   "cell_type": "code",
   "execution_count": 7,
   "id": "65561387",
   "metadata": {},
   "outputs": [
    {
     "name": "stdout",
     "output_type": "stream",
     "text": [
      "{\"chapters\": [], \"languages\": [\"en\"], \"en\": [{\"name\": \"Chapter 1 Introduction\", \"content\": \"Parts of the coffee machine\\n\\nUser Manual Signs and Symbols\\n\\nGlossary\", \"sections\": []}, {\"name\": \"Chapter 2 Operation\", \"content\": \"Switch on coffee machine\\n\\n\\nBeverage dispensing\\n\\n\\nDecaf button optional\\n\\n\\nMilk or milk foam optional\\n\\n\\nDispense milk or milk foam\\n\\n\\nConnect up the milk\\n\\nStandard\\n\\nWith WMF Cooler WMF Cup Cool optional\\n\\n\\nDispensing hot water\\n\\n\\nSteam dispensing optional\\n\\nWarm beverages\\n\\nFoam milk\\n\\n\\nHeight adjustment of the combi spout\\n\\n\\nBean hopper product hopper\\n\\n\\nTwin Topping hopper Twin Choc hopper optional\\n\\n\\nManual insert optional tablet insert\\n\\n\\nGrounds container\\n\\n\\nGrounds disposal through the counter optional\\n\\n\\nDrip tray\\n\\n\\nIntegrated milk cooler optional\\n\\n\\nSwitch off the coffee machine\", \"sections\": []}, {\"name\": \"Chapter 3 Software\", \"content\": \"An overview\\n\\n\\nReady to operate\\n\\n\\nWarm rinse pad\\n\\n\\nBarista pad\\n\\n\\nInformation\\n\\nService\\n\\nCare\\n\\nBrew time\\n\\nJournal\\n\\nTimer\\n\\n\\nShift pad optional\\n\\n\\nMain menu\\n\\n\\nMain menu\\n\\n\\nMilk and foam\\n\\nMilk foam quality\\n\\nLatte macchiato pause interval\\n\\n\\nTimer program\\n\\nTimer state\\n\\nSet timer\\n\\nCopy day\\n\\nTimer overview\\n\\nDelete timer\\n\\nTimer information\\n\\n\\nUser Manual WMF presto\\nTable of Contents\\n\\nCare\\n\\nCleaning program\\n\\nFoamer cleaning\\n\\nMixer rinsing\\n\\nDescaling\\n\\nDescaling coffee machine with water tank or Aquaflex\\nDescaling coffee machine with constant water supply\\nFilter change\\n\\nRinse filter\\n\\nCustomer Check up\\n\\n\\nSettings\\n\\nRecipes and buttons\\n\\nSelecting the beverage buttons when setting\\nAdjust values\\nStart a preparation test with the current values\\nSave setting\\nCup volumes\\nChange recipes\\nSet decaf optional\\nButton allocation\\nSelect grinder for a coffee beverage\\nSelect the portion controller for the Choc beverage\\nWeigh grounds\\nBoiler temperature\\n\\nReset\\n\\nTime and date\\n\\nDisplay language\\n\\nDisplay contrast\\n\\nWater filter is fitted\\n\\nWater hardness and capacity\\n\\nWarm up rinsing\\n\\nFoamer rinsing optional\\n\\nRinsing interval\\n\\nOperating options\\n\\nIllumination optional\\n\\nMilk optional\\n\\nIntro\\n\\nECO Mode\\n\\n\\nPIN entry display\\n\\n\\nPIN rights access control\\n\\nCleaning level\\n\\nSetting level\\n\\nAccounting level\\n\\nDelete PIN\\n\\nAccounting numbers of beverages\", \"sections\": []}, {\"name\": \"Chapter 4 Other settings\", \"content\": \"Mechanical settings\\n\\n\\nSet grinding degree\\n\\n\\nAquaflex optional Switching between the constant water supply\\nand the water tank\\n\\n\\nLabelling of beverage buttons\\n\\n\\nUser Manual WMF presto\\nTable of Contents\", \"sections\": []}, {\"name\": \"Chapter 5 Care\", \"content\": \"Cleaning intervals overview\\n\\nFor all cleaning instructions\\n\\n\\nDaily cleaning\\n\\n\\nCleaning program\\n\\n\\nMilk system cleaning\\n\\nMilk system cleaning Standard\\n\\nMilk system cleaning Plug Clean\\n\\n\\nMixer rinsing\\n\\n\\nCombi spout cleaning\\n\\n\\nMilk container cleaning optional\\n\\n\\nGeneral cleaning\\n\\n\\nWeekly cleaning\\n\\n\\nChoc Topping mixer cleaning optional\\n\\n\\nMilk compartment cleaning\\n\\n\\nWater tank cleaning\\n\\n\\nRegular cleaning\\n\\n\\nBrewing unit cleaning\\n\\n\\nBean hopper cleaning\\n\\n\\nProduct hopper cleaning optional\\n\\n\\nSteam outlet cleaning\\n\\n\\nFilter change\\n\\n\\nDescaling\", \"sections\": []}, {\"name\": \"Chapter 7 Maintenance\", \"content\": \"Coffee machine maintenance\\n\\n\\nWMF Service\", \"sections\": []}, {\"name\": \"Chapter 8 Messages and instructions\", \"content\": \"Messages for operation\\n\\n\\nError messages and malfunctions\\n\\n\\nErrors without error message\", \"sections\": []}, {\"name\": \"Chapter 9 Safety\", \"content\": \"Hazards to the operator\\n\\n\\nHazards to the coffee machine\\n\\n\\nIntended use\\n\\n\\nDirectives\\n\\n\\nDuties of the owner operator\\n\\n\\nWarranty claims\\n\\nNo warranty is provided\\n\\nAppendix Cleaning instructions Standard\\n\\nAppendix Technical data\\n\\nTechnical data for coffee machine\\n\\nConditions for usage and installation\\n\\nAppendix Accessories and spare parts\", \"sections\": []}, {\"name\": \"Chapter 2 Operation\", \"content\": \"A display guided installation program helps perform initial\\nstart up after delivery from the factory\", \"sections\": []}, {\"name\": \"Chapter 5 Care\", \"content\": \"Regular cleaning is essential in order to ensure\\nproblem free operation of the coffee machine and to\\nensure optimum coffee quality\\nPrior to and after every instance that the machine is shut\\noff for several days perform all cleanings\", \"sections\": []}, {\"name\": \"Chapter 6 HACCP cleaning schedule\", \"content\": \"You are required by law to ensure that your customers are\\nnot subject to any health hazards as a consequence of the\\nconsumption of the food items you serve\\nA HACCP cleaning schedule Hazard Analysis Critical\\nControl Points for risk identification and assessment is\\nrequired You should carry out a risk analysis on your\\npremises The aim of the analysis is to recognize and\\npre empt food hygiene hazard points For this purpose\\nmonitoring and where necessary test procedures must be\\nestablished and implemented\\nWith correct installation care maintenance and cleaning\\nWMF coffee machines meet the requirements described\\nabove If care and cleaning of the coffee machine is\\nnot carried out properly dispensing milk beverages will\\nconstitute a food hygiene hazard point\\nPlease observe the following points in order to comply\\nwith the HACCP cleaning schedule\", \"sections\": []}, {\"name\": \"Chapter 7 Maintenance\", \"content\": \"Please observe that this is a professional industrial coffee\\nmachine which needs regular maintenance and descaling\\nTiming of descaling is calculated by the coffee machine\\nand depends on the degree of hardness of the local mains\\nwater and whether or not a water filter is fitted\\nThe maintenance date is based on the degree of use of the\\ncoffee machine and is shown on the display The coffee\\nmachine may continue to be operated after the message\\nbut Customer Care or contract maintenance should be\\ncarried out promptly to ensure correct functioning and so\\nas to avoid any consequent damage\", \"sections\": []}]}\n"
     ]
    }
   ],
   "source": [
    "with open(\"data.txt\", \"r\") as f:\n",
    "    print(f.read())\n"
   ]
  },
  {
   "cell_type": "code",
   "execution_count": null,
   "id": "a375c0c2",
   "metadata": {},
   "outputs": [],
   "source": []
  }
 ],
 "metadata": {
  "kernelspec": {
   "display_name": "Python 3 (ipykernel)",
   "language": "python",
   "name": "python3"
  },
  "language_info": {
   "codemirror_mode": {
    "name": "ipython",
    "version": 3
   },
   "file_extension": ".py",
   "mimetype": "text/x-python",
   "name": "python",
   "nbconvert_exporter": "python",
   "pygments_lexer": "ipython3",
   "version": "3.9.7"
  }
 },
 "nbformat": 4,
 "nbformat_minor": 5
}
